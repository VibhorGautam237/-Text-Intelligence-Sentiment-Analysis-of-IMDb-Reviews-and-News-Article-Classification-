{
 "cells": [
  {
   "cell_type": "markdown",
   "id": "24fb9268-4081-43d1-9cfd-deea7d547d57",
   "metadata": {},
   "source": [
    "#  Part B: News Article Classification:\n",
    "# OVERVIEW\n",
    "The \"overview\" section describes a project aimed at developing a machine learning model to classify news articles into predefined categories, such as sports, politics, and technology, based on their content. the purpose of this automation is to improve content management and recommendation systems for news organizations, social media platforms, and aggregators, ultimately making it eaiser for readers to access relevant information based on their inteersts."
   ]
  },
  {
   "cell_type": "markdown",
   "id": "e0f382b7-9a9c-4dc9-9d87-39478d35f412",
   "metadata": {},
   "source": [
    "# PROBLEM STATEMENT \n",
    "The problem statement describes the goal of building a classification model for news articles and outlines the steps involved in developing this solution\n",
    "this primary objective is to build a classification model that can automatically categorize large volumes of news articles into predefined categrories."
   ]
  },
  {
   "cell_type": "markdown",
   "id": "e5745592-bd17-4f2b-bebf-c990155aaef4",
   "metadata": {},
   "source": [
    "# Information about structure of our dataset"
   ]
  },
  {
   "cell_type": "code",
   "execution_count": 1,
   "id": "be2f66d3-c3db-4013-b38b-777fa0f8aa76",
   "metadata": {},
   "outputs": [],
   "source": [
    "import pandas as pd\n",
    "import numpy as np\n",
    "import matplotlib.pyplot as plt\n",
    "import seaborn as sns\n",
    "%matplotlib inline\n",
    "from datetime import datetime\n",
    "import re\n",
    "import warnings\n",
    "warnings.filterwarnings('ignore')"
   ]
  },
  {
   "cell_type": "code",
   "execution_count": 2,
   "id": "15141ec1-925a-4b2b-a0b0-9c47f48205e5",
   "metadata": {},
   "outputs": [],
   "source": [
    "df = pd.read_csv(\"C:\\\\Users\\\\india\\\\Downloads\\\\data_news.csv\")"
   ]
  },
  {
   "cell_type": "code",
   "execution_count": 5,
   "id": "6208decb-b17e-47c5-b3bd-30e73ffe6e87",
   "metadata": {
    "scrolled": true
   },
   "outputs": [
    {
     "name": "stdout",
     "output_type": "stream",
     "text": [
      "(50000, 5)\n",
      "category             object\n",
      "headline             object\n",
      "links                object\n",
      "short_description    object\n",
      "keywords             object\n",
      "dtype: object\n"
     ]
    },
    {
     "data": {
      "text/html": [
       "<div>\n",
       "<style scoped>\n",
       "    .dataframe tbody tr th:only-of-type {\n",
       "        vertical-align: middle;\n",
       "    }\n",
       "\n",
       "    .dataframe tbody tr th {\n",
       "        vertical-align: top;\n",
       "    }\n",
       "\n",
       "    .dataframe thead th {\n",
       "        text-align: right;\n",
       "    }\n",
       "</style>\n",
       "<table border=\"1\" class=\"dataframe\">\n",
       "  <thead>\n",
       "    <tr style=\"text-align: right;\">\n",
       "      <th></th>\n",
       "      <th>category</th>\n",
       "      <th>headline</th>\n",
       "      <th>links</th>\n",
       "      <th>short_description</th>\n",
       "      <th>keywords</th>\n",
       "    </tr>\n",
       "  </thead>\n",
       "  <tbody>\n",
       "    <tr>\n",
       "      <th>0</th>\n",
       "      <td>WELLNESS</td>\n",
       "      <td>143 Miles in 35 Days: Lessons Learned</td>\n",
       "      <td>https://www.huffingtonpost.com/entry/running-l...</td>\n",
       "      <td>Resting is part of training. I've confirmed wh...</td>\n",
       "      <td>running-lessons</td>\n",
       "    </tr>\n",
       "    <tr>\n",
       "      <th>1</th>\n",
       "      <td>WELLNESS</td>\n",
       "      <td>Talking to Yourself: Crazy or Crazy Helpful?</td>\n",
       "      <td>https://www.huffingtonpost.com/entry/talking-t...</td>\n",
       "      <td>Think of talking to yourself as a tool to coac...</td>\n",
       "      <td>talking-to-yourself-crazy</td>\n",
       "    </tr>\n",
       "    <tr>\n",
       "      <th>2</th>\n",
       "      <td>WELLNESS</td>\n",
       "      <td>Crenezumab: Trial Will Gauge Whether Alzheimer...</td>\n",
       "      <td>https://www.huffingtonpost.com/entry/crenezuma...</td>\n",
       "      <td>The clock is ticking for the United States to ...</td>\n",
       "      <td>crenezumab-alzheimers-disease-drug</td>\n",
       "    </tr>\n",
       "    <tr>\n",
       "      <th>3</th>\n",
       "      <td>WELLNESS</td>\n",
       "      <td>Oh, What a Difference She Made</td>\n",
       "      <td>https://www.huffingtonpost.com/entry/meaningfu...</td>\n",
       "      <td>If you want to be busy, keep trying to be perf...</td>\n",
       "      <td>meaningful-life</td>\n",
       "    </tr>\n",
       "    <tr>\n",
       "      <th>4</th>\n",
       "      <td>WELLNESS</td>\n",
       "      <td>Green Superfoods</td>\n",
       "      <td>https://www.huffingtonpost.com/entry/green-sup...</td>\n",
       "      <td>First, the bad news: Soda bread, corned beef a...</td>\n",
       "      <td>green-superfoods</td>\n",
       "    </tr>\n",
       "  </tbody>\n",
       "</table>\n",
       "</div>"
      ],
      "text/plain": [
       "   category                                           headline  \\\n",
       "0  WELLNESS              143 Miles in 35 Days: Lessons Learned   \n",
       "1  WELLNESS       Talking to Yourself: Crazy or Crazy Helpful?   \n",
       "2  WELLNESS  Crenezumab: Trial Will Gauge Whether Alzheimer...   \n",
       "3  WELLNESS                     Oh, What a Difference She Made   \n",
       "4  WELLNESS                                   Green Superfoods   \n",
       "\n",
       "                                               links  \\\n",
       "0  https://www.huffingtonpost.com/entry/running-l...   \n",
       "1  https://www.huffingtonpost.com/entry/talking-t...   \n",
       "2  https://www.huffingtonpost.com/entry/crenezuma...   \n",
       "3  https://www.huffingtonpost.com/entry/meaningfu...   \n",
       "4  https://www.huffingtonpost.com/entry/green-sup...   \n",
       "\n",
       "                                   short_description  \\\n",
       "0  Resting is part of training. I've confirmed wh...   \n",
       "1  Think of talking to yourself as a tool to coac...   \n",
       "2  The clock is ticking for the United States to ...   \n",
       "3  If you want to be busy, keep trying to be perf...   \n",
       "4  First, the bad news: Soda bread, corned beef a...   \n",
       "\n",
       "                             keywords  \n",
       "0                     running-lessons  \n",
       "1           talking-to-yourself-crazy  \n",
       "2  crenezumab-alzheimers-disease-drug  \n",
       "3                     meaningful-life  \n",
       "4                    green-superfoods  "
      ]
     },
     "execution_count": 5,
     "metadata": {},
     "output_type": "execute_result"
    }
   ],
   "source": [
    "print(df.shape)\n",
    "print(df.dtypes)\n",
    "df.head()"
   ]
  },
  {
   "cell_type": "markdown",
   "id": "709320ec-eb68-49d3-8fbe-16e54d3947bb",
   "metadata": {},
   "source": [
    "#  1. Data Collection and Preprocessing :\n",
    "# ● Collect a dataset of labeled news articles (sports, politics, technology etc)."
   ]
  },
  {
   "cell_type": "code",
   "execution_count": 13,
   "id": "8f33958a-8bbb-457c-8db7-1fc15f091b6e",
   "metadata": {},
   "outputs": [
    {
     "name": "stdout",
     "output_type": "stream",
     "text": [
      "Collected Data:\n",
      "       category                                           headline  \\\n",
      "0      WELLNESS              143 Miles in 35 Days: Lessons Learned   \n",
      "1      WELLNESS       Talking to Yourself: Crazy or Crazy Helpful?   \n",
      "2      WELLNESS  Crenezumab: Trial Will Gauge Whether Alzheimer...   \n",
      "3      WELLNESS                     Oh, What a Difference She Made   \n",
      "4      WELLNESS                                   Green Superfoods   \n",
      "...         ...                                                ...   \n",
      "49995    SPORTS  This Baseball Team Learned There's A Wrong Way...   \n",
      "49996    SPORTS  Some Young Spurs Fan Dabbed 38 Times In A Sing...   \n",
      "49997    SPORTS  Rasheed Wallace Ejected From Knicks-Suns Game ...   \n",
      "49998    SPORTS  Why Jake Plummer And Other NFL Players Are Pus...   \n",
      "49999    SPORTS  Simone Biles Isn't The Next Anyone, She's 'The...   \n",
      "\n",
      "                                                   links  \\\n",
      "0      https://www.huffingtonpost.com/entry/running-l...   \n",
      "1      https://www.huffingtonpost.com/entry/talking-t...   \n",
      "2      https://www.huffingtonpost.com/entry/crenezuma...   \n",
      "3      https://www.huffingtonpost.com/entry/meaningfu...   \n",
      "4      https://www.huffingtonpost.com/entry/green-sup...   \n",
      "...                                                  ...   \n",
      "49995  https://www.huffingtonpost.com/entry/san-jose-...   \n",
      "49996  https://www.huffingtonpost.com/entry/dab-kid-s...   \n",
      "49997  https://www.huffingtonpost.com/entry/rasheed-w...   \n",
      "49998  https://www.huffingtonpost.comhttp://extras.de...   \n",
      "49999  https://www.huffingtonpost.com/entry/the-first...   \n",
      "\n",
      "                                       short_description  \\\n",
      "0      Resting is part of training. I've confirmed wh...   \n",
      "1      Think of talking to yourself as a tool to coac...   \n",
      "2      The clock is ticking for the United States to ...   \n",
      "3      If you want to be busy, keep trying to be perf...   \n",
      "4      First, the bad news: Soda bread, corned beef a...   \n",
      "...                                                  ...   \n",
      "49995  Many fans were pissed after seeing the minor l...   \n",
      "49996             Never change, young man. Never change.   \n",
      "49997  Wallace was hit with a first technical for a h...   \n",
      "49998  They believe CBD could be an alternative to po...   \n",
      "49999             The gymnast is in a league of her own.   \n",
      "\n",
      "                                                keywords  \n",
      "0                                        running-lessons  \n",
      "1                              talking-to-yourself-crazy  \n",
      "2                     crenezumab-alzheimers-disease-drug  \n",
      "3                                        meaningful-life  \n",
      "4                                       green-superfoods  \n",
      "...                                                  ...  \n",
      "49995            san-jose-giants-japanese-heritage-night  \n",
      "49996                          dab-kid-san-antonio-spurs  \n",
      "49997  rasheed-wallace-ejected-knicks-suns-ball-dont-lie  \n",
      "49998                                                NaN  \n",
      "49999                             the-first-simone-biles  \n",
      "\n",
      "[50000 rows x 5 columns]\n"
     ]
    }
   ],
   "source": [
    "    import pandas as pd\n",
    "\n",
    "    # Simulate a small dataset of labeled news articles\n",
    "    data = {\n",
    "        'article_text' ,\n",
    "      \n",
    "        'label', \n",
    "            \"sports\",\n",
    "            \"politics\",\n",
    "            \"technology\",\n",
    "    }\n",
    "    df = df = pd.read_csv(\"C:\\\\Users\\\\india\\\\Downloads\\\\data_news.csv\")\n",
    "    print(\"Collected Data:\")\n",
    "    print(df)"
   ]
  },
  {
   "cell_type": "markdown",
   "id": "c07b0ed4-e615-4050-8df6-07ff40e7d97d",
   "metadata": {},
   "source": [
    "# Explanation:\n",
    "              + This part demonstrates how to \"collect\" a dataset. For simplicity, fetch_20newsgroups is used, which is a common dataset for text classification. In a real-world project, you would replace this with loading your actual dataset from a file (e.g.,pd.read_csv('news_articles.csv.csv') or pd.read_json('news_articles.json')). "
   ]
  },
  {
   "cell_type": "markdown",
   "id": "d1abb547-27b5-4ec9-8c4c-6b9980a914ac",
   "metadata": {},
   "source": [
    "#  ● Cleanand preprocess the text data."
   ]
  },
  {
   "cell_type": "code",
   "execution_count": null,
   "id": "632426fa-2c1e-4b60-9f8c-dcd13d621440",
   "metadata": {},
   "outputs": [],
   "source": [
    "    import re\n",
    "    import nltk\n",
    "    from nltk.corpus import stopwords\n",
    "    from nltk.stem import WordNetLemmatizer\n",
    "\n",
    "    nltk.download('stopwords', quiet=True)\n",
    "    nltk.download('wordnet', quiet=True)\n",
    "\n",
    "    stop_words = set(stopwords.words('english'))\n",
    "    lemmatizer = WordNetLemmatizer()\n",
    "\n",
    "    def preprocess_text(text):\n",
    "        text = text.lower() # Convert to lowercase\n",
    "        text = re.sub(r'\\S*@\\S*\\s?', '', text) # Remove emails\n",
    "        text = re.sub(r'http\\S+', '', text) # Remove URLs\n",
    "        text = re.sub(r'[^a-z\\s]', '', text) # Remove non-alphabetic characters\n",
    "        words = text.split()\n",
    "        words = [lemmatizer.lemmatize(word) for word in words if word not in stop_words] # Remove stopwords and lemmatize\n",
    "        return ' '.join(words)\n",
    "\n",
    "    df['cleaned_text'] = df['text'].apply(preprocess_text)\n",
    "    print(\"\\nText data cleaned and preprocessed.\")\n",
    "    print(f\"Sample cleaned article:\\n{df['cleaned_text'][0][:200]}...\")"
   ]
  },
  {
   "cell_type": "markdown",
   "id": "d8b8797f-bf77-47ed-8fa2-b034221a3f62",
   "metadata": {},
   "source": [
    "# Explanation:\n",
    "            + This section defines a preprocess_text function that performs common text cleaning steps: converting to lowercase, removing emails and URLs, removing non-alphabetic characters, removing stopwords, and lemmatizing words. The apply method is then used to apply this function to the 'text' column, creating a new 'cleaned_text' column. "
   ]
  },
  {
   "cell_type": "markdown",
   "id": "aa539580-c875-49eb-ac1c-dd7c4fc28040",
   "metadata": {},
   "source": [
    "# ● Handle missing data, if any, and ensure the text is ready for feature extraction."
   ]
  },
  {
   "cell_type": "code",
   "execution_count": null,
   "id": "22e01bf5-8e1e-43dd-894d-2ccc486efc3a",
   "metadata": {},
   "outputs": [],
   "source": [
    "    # Check for missing values\n",
    "    print(f\"\\nMissing values before handling:\\n{df.isnull().sum()}\")\n",
    "\n",
    "    # Handle missing values (e.g., fill with empty string or drop rows)\n",
    "    df.dropna(subset=['cleaned_text'], inplace=True) # Drop rows where cleaned_text might be NaN\n",
    "    df['cleaned_text'].fillna('', inplace=True) # Fill any remaining NaN with empty string\n",
    "\n",
    "    print(f\"\\nMissing values after handling:\\n{df.isnull().sum()}\")\n",
    "    print(\"\\nText is now ready for feature extraction.\")"
   ]
  },
  {
   "cell_type": "markdown",
   "id": "4e17beb3-4f7f-4e9d-b4fa-9bd6f910a4e2",
   "metadata": {},
   "source": [
    "# Explanation:\n",
    "            + This part explicitly checks for missing values in the DataFrame. While the preprocessing steps might not directly create NaN values in the 'cleaned_text' column if the original 'text' column is clean, it's good practice to include dropna or fillna to ensure data integrity and readiness for subsequent steps like feature extraction."
   ]
  },
  {
   "cell_type": "markdown",
   "id": "9599d1e6-5715-4e15-918a-ab780aece3bf",
   "metadata": {},
   "source": [
    "#  2. Feature Extraction\n",
    "# ● Usemethods like TF-IDF, word embeddings (e.g., Word2Vec, GloVe), or bag-of-words to convert text data into numerical features."
   ]
  },
  {
   "cell_type": "markdown",
   "id": "f13a6791-4186-4c7f-bd56-6caa96e1f80e",
   "metadata": {},
   "source": [
    "# 1. Bag-of-Words (BoW):\n",
    "      This method represents text as a bag (multiset) of its words, disregarding grammar and even word order but keeping multiplicity."
   ]
  },
  {
   "cell_type": "code",
   "execution_count": 34,
   "id": "6a511645-f114-48b8-a585-88e2db2d6d10",
   "metadata": {},
   "outputs": [
    {
     "name": "stdout",
     "output_type": "stream",
     "text": [
      "Bag-of-Words features:\n",
      " [[0 1 1 1 0 0 1 0 1]\n",
      " [0 2 0 1 0 1 1 0 1]\n",
      " [1 0 0 1 1 0 1 1 1]]\n",
      "Feature names (words): ['and' 'document' 'first' 'is' 'one' 'second' 'the' 'third' 'this']\n"
     ]
    }
   ],
   "source": [
    "    from sklearn.feature_extraction.text import CountVectorizer\n",
    "    corpus = ['This is the first document.', 'This document is the second document.', 'And this is the third one.']\n",
    "    vectorizer = CountVectorizer()\n",
    "    X_bow = vectorizer.fit_transform(corpus)\n",
    "    print(\"Bag-of-Words features:\\n\", X_bow.toarray())\n",
    "    print(\"Feature names (words):\", vectorizer.get_feature_names_out())"
   ]
  },
  {
   "cell_type": "markdown",
   "id": "c885dea9-a7e8-405c-bbe8-1173c8074687",
   "metadata": {},
   "source": [
    "# Explanation:\n",
    "    CountVectorizer converts a collection of text documents to a matrix of token counts. Each row represents a document, and each column represents a unique word from the corpus, with the value being the count of that word in the document. "
   ]
  },
  {
   "cell_type": "markdown",
   "id": "8d618570-37a1-4a60-8291-f326cd417347",
   "metadata": {},
   "source": [
    "# 2. TF-IDF (Term Frequency-Inverse Document Frequency):\n",
    "      This method reflects how important a word is to a document in a corpus. It increases proportionally to the number of times a word appears in the document but is offset by the frequency of the word in the corpus."
   ]
  },
  {
   "cell_type": "code",
   "execution_count": 35,
   "id": "26261700-ad5a-47a6-a065-a577de49f219",
   "metadata": {},
   "outputs": [
    {
     "name": "stdout",
     "output_type": "stream",
     "text": [
      "\n",
      "TF-IDF features:\n",
      " [[0.         0.46941728 0.61722732 0.3645444  0.         0.\n",
      "  0.3645444  0.         0.3645444 ]\n",
      " [0.         0.7284449  0.         0.28285122 0.         0.47890875\n",
      "  0.28285122 0.         0.28285122]\n",
      " [0.49711994 0.         0.         0.29360705 0.49711994 0.\n",
      "  0.29360705 0.49711994 0.29360705]]\n",
      "Feature names (words): ['and' 'document' 'first' 'is' 'one' 'second' 'the' 'third' 'this']\n"
     ]
    }
   ],
   "source": [
    "    from sklearn.feature_extraction.text import TfidfVectorizer\n",
    "    corpus = ['This is the first document.', 'This document is the second document.', 'And this is the third one.']\n",
    "    vectorizer = TfidfVectorizer()\n",
    "    X_tfidf = vectorizer.fit_transform(corpus)\n",
    "    print(\"\\nTF-IDF features:\\n\", X_tfidf.toarray())\n",
    "    print(\"Feature names (words):\", vectorizer.get_feature_names_out())"
   ]
  },
  {
   "cell_type": "markdown",
   "id": "616b7d54-1006-46da-a44f-56577147fcc3",
   "metadata": {},
   "source": [
    "# Explanation: \n",
    "      TfidfVectorizer computes the TF-IDF scores for words in a corpus. Words common across many documents receive lower weights, while words unique to specific documents receive higher weights, highlighting their importance. "
   ]
  },
  {
   "cell_type": "markdown",
   "id": "5598d88c-9550-46af-adcd-9d297d1b376c",
   "metadata": {},
   "source": [
    "#  ● Perform exploratory data analysis (EDA) to understand the distribution of different categories."
   ]
  },
  {
   "cell_type": "code",
   "execution_count": 40,
   "id": "46e3966a-a77b-4ff2-ba9d-a7b94ad94b61",
   "metadata": {},
   "outputs": [
    {
     "data": {
      "image/png": "[encoded data removed]",
      "text/plain": [
       "<Figure size 800x600 with 1 Axes>"
      ]
     },
     "metadata": {},
     "output_type": "display_data"
    }
   ],
   "source": [
    "    import pandas as pd\n",
    "    import matplotlib.pyplot as plt\n",
    "    import seaborn as sns\n",
    "\n",
    "    data = {'text': ['cat food', 'dog toy', 'cat litter', 'dog leash', 'bird seed'],\n",
    "            'category': ['pet_supply', 'pet_supply', 'pet_supply', 'pet_supply', 'pet_supply']}\n",
    "    df = pd.DataFrame(data)\n",
    "\n",
    "    # Example for a categorical column, assuming categories are present\n",
    "    # For text data, you might analyze word frequencies or topic distribution after feature extraction\n",
    "    if 'category' in df.columns:\n",
    "        plt.figure(figsize=(8, 6))\n",
    "        sns.countplot(data=df, x='category')\n",
    "        plt.title('Distribution of Categories')\n",
    "        plt.xlabel('Category')\n",
    "        plt.ylabel('Count')\n",
    "        plt.show()"
   ]
  },
  {
   "cell_type": "markdown",
   "id": "dd6036b0-a0e2-40be-b9c3-215945abed0b",
   "metadata": {},
   "source": [
    "# Explanation:\n",
    "     Word2Vec learns word embeddings by predicting surrounding words (Skip-gram) or predicting a target word from its context (CBOW). The vector_size determines the dimensionality of the word vectors, and window defines the maximum distance between the current and predicted word within a sentence. "
   ]
  },
  {
   "cell_type": "markdown",
   "id": "9bc8064e-8dd8-4ba4-8be8-f63c6357ca46",
   "metadata": {},
   "source": [
    "#  3. Model Development and Training\n",
    "# ● Build classification models using algorithms like Logistic Regression, Naive Bayes, Support Vector Machines (SVM)."
   ]
  },
  {
   "cell_type": "code",
   "execution_count": null,
   "id": "d3ea2b9e-cb87-42a1-9d97-be207cdd8ffa",
   "metadata": {},
   "outputs": [],
   "source": [
    "# Model Building and Training (Logistic Regression Example):\n",
    "from sklearn.linear_model import LogisticRegression\n",
    "\n",
    "# Initialize the Logistic Regression model\n",
    "model = LogisticRegression(random_state=42)\n",
    "\n",
    "# Train the model\n",
    "model.fit(X_train_vec, y_train)"
   ]
  },
  {
   "cell_type": "markdown",
   "id": "2f457f5a-04f2-4dba-97ba-613b4f271507",
   "metadata": {},
   "source": [
    "# Explanation:\n",
    "+ LogisticRegression from sklearn.linear_model is instantiated. You could replace this with GaussianNB for Naive Bayes or SVC for SVM.\n",
    "+ The fit() method trains the model using the vectorized training data (X_train_vec) and their corresponding labels (y_train)."
   ]
  },
  {
   "cell_type": "markdown",
   "id": "8c2192bb-b970-45c4-bda1-add4cb42abf7",
   "metadata": {},
   "source": [
    "#  ● Train the models on the preprocessed text data, tuning hyperparameters as necessary."
   ]
  },
  {
   "cell_type": "code",
   "execution_count": null,
   "id": "2e7d6352-cd2b-48ea-b986-0808be243e3c",
   "metadata": {},
   "outputs": [],
   "source": [
    "# Hyperparameter Tuning (Example with Logistic Regression):\n",
    "from sklearn.model_selection import GridSearchCV\n",
    "\n",
    "# Define hyperparameters to tune\n",
    "param_grid = {'C': [0.1, 1, 10, 100]} # C is a regularization parameter for Logistic Regression\n",
    "\n",
    "# Perform GridSearchCV for hyperparameter tuning\n",
    "grid_search = GridSearchCV(LogisticRegression(random_state=42), param_grid, cv=3)\n",
    "grid_search.fit(X_train_vec, y_train)\n",
    "\n",
    "# Get the best model and its parameters\n",
    "best_model = grid_search.best_estimator_\n",
    "print(f\"Best hyperparameters: {grid_search.best_params_}\")"
   ]
  },
  {
   "cell_type": "markdown",
   "id": "d44c28e9-71f2-4781-8d67-e566fcf698cb",
   "metadata": {},
   "source": [
    "# Explanation:\n",
    "+ GridSearchCV from sklearn.model_selection systematically searches for the best combination of hyperparameters.\n",
    "+ param_grid defines the range of values to test for the C parameter.\n",
    "+ cv=3 specifies 3-fold cross-validation during the grid search.\n",
    "+ best_estimator_ and best_params_ attributes store the best performing model and its corresponding hyperparameters found during the search."
   ]
  },
  {
   "cell_type": "markdown",
   "id": "a3394a8f-8c9d-46a2-aa89-8f2ed6e717bc",
   "metadata": {},
   "source": [
    "#  ● Usecross-validation to ensure robust evaluation of model performance."
   ]
  },
  {
   "cell_type": "code",
   "execution_count": null,
   "id": "493b8a27-5375-4b52-85c5-ff77591fa32c",
   "metadata": {},
   "outputs": [],
   "source": [
    "#  Model Evaluation using Cross-Validation.\n",
    "from sklearn.model_selection import cross_val_score\n",
    "\n",
    "# Perform cross-validation on the training data\n",
    "scores = cross_val_score(best_model, X_train_vec, y_train, cv=5) # 5-fold cross-validation\n",
    "print(f\"Cross-validation scores: {scores}\")\n",
    "print(f\"Mean cross-validation score: {scores.mean():.2f}\")"
   ]
  },
  {
   "cell_type": "markdown",
   "id": "5568cf5e-0a9d-4ca1-9e85-cddc41877a3b",
   "metadata": {},
   "source": [
    "# Explanation:\n",
    "+ cross_val_score from sklearn.Model selection evaluates the model's performance using cross-validation.\n",
    "+ It splits the data into cv (e.g., 5) folds, trains the model on cv-1 folds, and evaluates on the remaining fold, repeating this process cv times.\n",
    "+ The scores array contains the performance metric (e.g., accuracy) for each fold, and the mean provides an overall estimate of model performance."
   ]
  },
  {
   "cell_type": "markdown",
   "id": "5c4f74f6-9bdb-4326-97a9-417202ef4fb5",
   "metadata": {},
   "source": [
    "# CONCLUSION :\n",
    "For Naive Bayes (e.g., GaussianNB, MultinomialNB) and SVM (SVC), the specific hyperparameters and their ranges for tuning will differ. You would also need to ensure your data is appropriately preprocessed for each algorithm (e.g., numerical for Naive Bayes, scaled for SVM)."
   ]
  },
  {
   "cell_type": "markdown",
   "id": "a8215e21-96c7-47df-b606-3f45f38ab590",
   "metadata": {},
   "source": [
    "#  4. Model Evaluation:\n",
    "#  ● Evaluate the models using appropriate metrics.\n",
    "#  ● Comparethe performance of different models and select the best one for classification."
   ]
  },
  {
   "cell_type": "code",
   "execution_count": 9,
   "id": "62829326-5617-4470-8d91-aae681f18b79",
   "metadata": {},
   "outputs": [
    {
     "name": "stdout",
     "output_type": "stream",
     "text": [
      "Model Evaluation:\n",
      "\n",
      "--- Logistic Regression ---\n",
      "Accuracy: 1.0000\n",
      "Precision: 1.0000\n",
      "Recall: 1.0000\n",
      "F1-Score: 1.0000\n",
      "ROC-AUC: 1.0000\n",
      "Classification Report:\n",
      "               precision    recall  f1-score   support\n",
      "\n",
      "           0       1.00      1.00      1.00         1\n",
      "           1       1.00      1.00      1.00         2\n",
      "\n",
      "    accuracy                           1.00         3\n",
      "   macro avg       1.00      1.00      1.00         3\n",
      "weighted avg       1.00      1.00      1.00         3\n",
      "\n",
      "\n",
      "--- Decision Tree ---\n",
      "Accuracy: 1.0000\n",
      "Precision: 1.0000\n",
      "Recall: 1.0000\n",
      "F1-Score: 1.0000\n",
      "ROC-AUC: 1.0000\n",
      "Classification Report:\n",
      "               precision    recall  f1-score   support\n",
      "\n",
      "           0       1.00      1.00      1.00         1\n",
      "           1       1.00      1.00      1.00         2\n",
      "\n",
      "    accuracy                           1.00         3\n",
      "   macro avg       1.00      1.00      1.00         3\n",
      "weighted avg       1.00      1.00      1.00         3\n",
      "\n",
      "\n",
      "--- Random Forest ---\n",
      "Accuracy: 1.0000\n",
      "Precision: 1.0000\n",
      "Recall: 1.0000\n",
      "F1-Score: 1.0000\n",
      "ROC-AUC: 1.0000\n",
      "Classification Report:\n",
      "               precision    recall  f1-score   support\n",
      "\n",
      "           0       1.00      1.00      1.00         1\n",
      "           1       1.00      1.00      1.00         2\n",
      "\n",
      "    accuracy                           1.00         3\n",
      "   macro avg       1.00      1.00      1.00         3\n",
      "weighted avg       1.00      1.00      1.00         3\n",
      "\n",
      "\n",
      "--- Model Comparison ---\n",
      "The best model based on Accuracy is: Logistic Regression with Accuracy: 1.0000\n"
     ]
    }
   ],
   "source": [
    "import pandas as pd\n",
    "from sklearn.model_selection import train_test_split\n",
    "from sklearn.linear_model import LogisticRegression\n",
    "from sklearn.tree import DecisionTreeClassifier\n",
    "from sklearn.ensemble import RandomForestClassifier\n",
    "from sklearn.metrics import accuracy_score, precision_score, recall_score, f1_score, roc_auc_score, classification_report\n",
    "\n",
    "# 1. Load and prepare your dataset (replace with your actual data)\n",
    "# For demonstration, let's create a dummy dataset\n",
    "data = {\n",
    "    'feature1': [1, 2, 3, 4, 5, 6, 7, 8, 9, 10],\n",
    "    'feature2': [10, 9, 8, 7, 6, 5, 4, 3, 2, 1],\n",
    "    'target': [0, 0, 0, 0, 1, 1, 1, 1, 1, 1]\n",
    "}\n",
    "df = pd.DataFrame(data)\n",
    "\n",
    "X = df[['feature1', 'feature2']]\n",
    "y = df['target']\n",
    "\n",
    "# Split data into training and testing sets\n",
    "X_train, X_test, y_train, y_test = train_test_split(X, y, test_size=0.3, random_state=42)\n",
    "\n",
    "# 2. Define and train different classification models\n",
    "models = {\n",
    "    'Logistic Regression': LogisticRegression(random_state=42),\n",
    "    'Decision Tree': DecisionTreeClassifier(random_state=42),\n",
    "    'Random Forest': RandomForestClassifier(random_state=42)\n",
    "}\n",
    "\n",
    "trained_models = {}\n",
    "for name, model in models.items():\n",
    "    model.fit(X_train, y_train)\n",
    "    trained_models[name] = model\n",
    "\n",
    "# 3. Evaluate the models using appropriate metrics\n",
    "print(\"Model Evaluation:\")\n",
    "results = {}\n",
    "for name, model in trained_models.items():\n",
    "    y_pred = model.predict(X_test)\n",
    "    y_prob = model.predict_proba(X_test)[:, 1] if hasattr(model, 'predict_proba') else None\n",
    "\n",
    "    accuracy = accuracy_score(y_test, y_pred)\n",
    "    precision = precision_score(y_test, y_pred)\n",
    "    recall = recall_score(y_test, y_pred)\n",
    "    f1 = f1_score(y_test, y_pred)\n",
    "    roc_auc = roc_auc_score(y_test, y_prob) if y_prob is not None else 'N/A'\n",
    "\n",
    "    results[name] = {\n",
    "        'Accuracy': accuracy,\n",
    "        'Precision': precision,\n",
    "        'Recall': recall,\n",
    "        'F1-Score': f1,\n",
    "        'ROC-AUC': roc_auc\n",
    "    }\n",
    "    print(f\"\\n--- {name} ---\")\n",
    "    print(f\"Accuracy: {accuracy:.4f}\")\n",
    "    print(f\"Precision: {precision:.4f}\")\n",
    "    print(f\"Recall: {recall:.4f}\")\n",
    "    print(f\"F1-Score: {f1:.4f}\")\n",
    "    print(f\"ROC-AUC: {roc_auc:.4f}\" if isinstance(roc_auc, float) else f\"ROC-AUC: {roc_auc}\")\n",
    "    print(\"Classification Report:\\n\", classification_report(y_test, y_pred))\n",
    "\n",
    "# 4. Compare the performance and select the best one\n",
    "print(\"\\n--- Model Comparison ---\")\n",
    "best_model_name = None\n",
    "best_accuracy = -1\n",
    "\n",
    "for name, metrics in results.items():\n",
    "    if metrics['Accuracy'] > best_accuracy:\n",
    "        best_accuracy = metrics['Accuracy']\n",
    "        best_model_name = name\n",
    "\n",
    "print(f\"The best model based on Accuracy is: {best_model_name} with Accuracy: {best_accuracy:.4f}\")"
   ]
  },
  {
   "cell_type": "markdown",
   "id": "f503e337-cc08-4341-8a7c-eed48686064e",
   "metadata": {},
   "source": [
    "# Explanation:\n",
    "1. Data Preparation = The code starts by creating a sample dataset and splitting it into training and testing sets. In a real-world scenario, you would load your actual dataset.\n",
    "2. Model Training = Several common classification models (Logistic Regression, Decision Tree, Random Forest) are initialized and trained on the traiN.\n",
    "3. Model Evaluation = Each trained model is evaluated using various classification metrics:\n",
    "  + Accuracy: The proportion of correctly classified instances.\n",
    "  + Precision: The proportion of true positive predictions among all positive predictions.\n",
    "  + Recall (Sensitivity): The proportion of true positive predictions among all actual positive instances.\n",
    "  + F1-Score: The harmonic mean of precision and recall, providing a balance between them.\n",
    "  + ROC-AUC (Receiver Operating Characteristic - Area Under Curve): Measures the ability of the model to distinguish between classes.\n",
    "  + Classification Report: Provides a detailed breakdown of precision, recall, and f1-score for each class\n",
    "4. Model Comparison and Selection = The code then compares the models based on their accuracy and identifies the one with the highest accuracy as the \"best\" model for this specific evaluation. You might choose a different metric (e.g., F1-score, ROC-AUC) depending on your specific problem and priorities."
   ]
  },
  {
   "cell_type": "markdown",
   "id": "3d1b78d2-98f2-47d3-b180-2d4ab6e45fd2",
   "metadata": {},
   "source": [
    "# CONCLUSION: \n",
    "This code provides a robust framework for evaluating and comparing different machine learning models for classification tasks. "
   ]
  },
  {
   "cell_type": "markdown",
   "id": "311368ba-806e-4c5b-92fb-eb2cfeb56a79",
   "metadata": {},
   "source": [
    "#  Success Criteria:\n",
    "A Python solution for achieving the success criteria outlined in the image would involve implementing a machine learning project for news article classification.\n",
    "# 1. Achieving good performance metrics (accuracy, F1-score, etc.):\n",
    "Use Python libraries like scikit-learn to train a classification model and evaluate its performance using metrics such as accuracy, precision, recall, and F1-score.\n",
    "# Explanation:\n",
    "+ Import necessary modules: from sklearn.model_selection import train_test_split, from sklearn.feature_extraction.text import TfidfVectorizer, from   sklearn.naive_bayes import MultinomialNB, from sklearn.metrics import accuracy_score, f1_score.\n",
    "+ Split your dataset into training and testing sets.\n",
    "+ Vectorize the text data (e.g., using TfidfVectorizer).\n",
    "+ Train a classification model (e.g., MultinomialNB).\n",
    "+ Make predictions on the test set.\n",
    "+ Calculate and print performance metrics like accuracy_score(y_test, y_pred) and f1_score(y_test, y_pred, average='weighted').\n",
    "# 2. Successfully classifying new, unseen news articles into correct categories:\n",
    "Deploy the trained model to classify new, previously unseen news articles.\n",
    "# Explanation:\n",
    "+ Load the trained model and the vectorizer.\n",
    "+ Preprocess the new news article text in the same way as the training data (vectorization).\n",
    "+ Use the predict() method of the trained model to assign the article to a category (e.g., sports, politics, technology).\n",
    "# 3. Deriving insights regarding important features or keywords:\n",
    " Analyze the trained model to extract feature importance or identify key terms driving the classification.\n",
    "+ For models like Naive Bayes or Logistic Regression, you can inspect the learned coefficients or feature weights to understand which words or features contribute most to each category.\n",
    "+ Techniques like SHAP (SHapley Additive exPlanations) or LIME (Local Interpretable Model-agnostic Explanations) can be used for more complex models to explain individual predictions and identify important features.\n",
    "# 4. Clearly documenting and presenting the process and methodology:\n",
    "Use tools like Jupyter Notebooks, Markdown, or Sphinx to document the code, methodology, data sources, model choices, and evaluation results.\n",
    "# Explanation:\n",
    "+ Jupyter Notebooks: Provide a runnable and interactive environment to combine code, explanations, and visualizations.\n",
    "+ Markdown: Create clear and concise README files or project reports explaining the steps taken, data preparation, model training, and results.\n",
    "+ Comments in Code: Add detailed comments within your Python scripts to explain different parts of the code. "
   ]
  },
  {
   "cell_type": "code",
   "execution_count": null,
   "id": "c420cb32-5693-4348-86b2-9c00ef2567fe",
   "metadata": {},
   "outputs": [],
   "source": []
  }
 ],
 "metadata": {
  "kernelspec": {
   "display_name": "Python [conda env:base] *",
   "language": "python",
   "name": "conda-base-py"
  },
  "language_info": {
   "codemirror_mode": {
    "name": "ipython",
    "version": 3
   },
   "file_extension": ".py",
   "mimetype": "text/x-python",
   "name": "python",
   "nbconvert_exporter": "python",
   "pygments_lexer": "ipython3",
   "version": "3.12.7"
  }
 },
 "nbformat": 4,
 "nbformat_minor": 5
}
